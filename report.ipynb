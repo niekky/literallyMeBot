{
 "cells": [
  {
   "attachments": {},
   "cell_type": "markdown",
   "metadata": {},
   "source": [
    "2/12/2023\n",
    "----------------------------------------------\n",
    "Batch size=8\n",
    "Total Steps = 1917\n",
    "No Learning Rate Scheduler\n",
    "LEARNING_RATE = 6.25e-7\n",
    "Shuffle = True\n",
    "Data Augmented\n",
    "-----------------------------------------------\n",
    "'Epoch: 1, Loss:  15.03217887878418'\n",
    "'Epoch: 2, Loss:  14.064239501953125'\n",
    "'Epoch: 3, Loss:  14.507238388061523'\n",
    "'Epoch: 4, Loss:  14.98664665222168'\n",
    "'Epoch: 5, Loss:  14.900235176086426'"
   ]
  },
  {
   "attachments": {},
   "cell_type": "markdown",
   "metadata": {},
   "source": [
    "2/12/2023\n",
    "----------------------------------------------\n",
    "Batch size=8\n",
    "Total Steps = 1917\n",
    "Warmup Steps = 128 (15%)\n",
    "Linear Learning Rate Scheduler with warmup (lambda2)\n",
    "LEARNING_RATE = 6.25e-7\n",
    "Shuffle = True\n",
    "Data Augmented\n",
    "-----------------------------------------------\n",
    "'Epoch: 1, Loss:  15.575693130493164'\n",
    "'Epoch: 2, Loss:  15.752157211303711'\n",
    "'Epoch: 3, Loss:  16.16190528869629'\n",
    "'Epoch: 4, Loss:  16.036649703979492'\n",
    "'Epoch: 5, Loss:  16.103893280029297'"
   ]
  },
  {
   "attachments": {},
   "cell_type": "markdown",
   "metadata": {},
   "source": [
    "2/12/2023\n",
    "----------------------------------------------\n",
    "Batch size=8\n",
    "Total Steps = 1917\n",
    "Warmup Steps = 77 (25%)\n",
    "Linear Learning Rate Scheduler with warmup (lambda2)\n",
    "LEARNING_RATE = 6.25e-7\n",
    "Shuffle = True\n",
    "Data Augmented\n",
    "-----------------------------------------------\n",
    "'Epoch: 1, Loss:  15.975041389465332'\n",
    "'Epoch: 2, Loss:  15.964917182922363'\n",
    "'Epoch: 3, Loss:  16.09798812866211'\n",
    "'Epoch: 4, Loss:  15.930488586425781'\n",
    "'Epoch: 5, Loss:  15.412458419799805'"
   ]
  },
  {
   "attachments": {},
   "cell_type": "markdown",
   "metadata": {},
   "source": [
    "2/12/2023\n",
    "----------------------------------------------\n",
    "Batch size=8\n",
    "Total Steps = 1917\n",
    "Warmup Steps = 128 (15%)\n",
    "Linear Learning Rate Scheduler with warmup (lambda2)\n",
    "LEARNING_RATE = 6.25e-5\n",
    "Shuffle = True\n",
    "Data Augmented\n",
    "-----------------------------------------------\n",
    "'Epoch: 1, Loss:  13.139986991882324'\n",
    "'Epoch: 2, Loss:  12.2410249710083'\n",
    "'Epoch: 3, Loss:  12.433065414428711'\n",
    "'Epoch: 4, Loss:  12.7719144821167'\n",
    "'Epoch: 5, Loss:  12.644791603088379'"
   ]
  }
 ],
 "metadata": {
  "kernelspec": {
   "display_name": "Python 3",
   "language": "python",
   "name": "python3"
  },
  "language_info": {
   "name": "python",
   "version": "3.10.6"
  },
  "orig_nbformat": 4,
  "vscode": {
   "interpreter": {
    "hash": "44a47853b1918eb710e25fd6ba6ee9af6fac694ece621a4756b81ff23436e8c6"
   }
  }
 },
 "nbformat": 4,
 "nbformat_minor": 2
}
